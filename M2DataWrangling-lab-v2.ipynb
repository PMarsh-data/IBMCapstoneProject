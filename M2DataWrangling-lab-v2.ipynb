{
 "cells": [
  {
   "cell_type": "markdown",
   "metadata": {},
   "source": [
    "<p style=\"text-align:center\">\n",
    "    <a href=\"https://skills.network\" target=\"_blank\">\n",
    "    <img src=\"https://cf-courses-data.s3.us.cloud-object-storage.appdomain.cloud/assets/logos/SN_web_lightmode.png\" width=\"200\" alt=\"Skills Network Logo\"  />\n",
    "    </a>\n",
    "</p>\n"
   ]
  },
  {
   "cell_type": "markdown",
   "metadata": {},
   "source": [
    "# **Data Wrangling Lab**\n"
   ]
  },
  {
   "cell_type": "markdown",
   "metadata": {},
   "source": [
    "Estimated time needed: **45** minutes\n"
   ]
  },
  {
   "cell_type": "markdown",
   "metadata": {},
   "source": [
    "In this lab, you will perform data wrangling tasks to prepare raw data for analysis. Data wrangling involves cleaning, transforming, and organizing data into a structured format suitable for analysis. This lab focuses on tasks like identifying inconsistencies, encoding categorical variables, and feature transformation.\n"
   ]
  },
  {
   "cell_type": "markdown",
   "metadata": {},
   "source": [
    "## Objectives\n"
   ]
  },
  {
   "cell_type": "markdown",
   "metadata": {},
   "source": [
    "After completing this lab, you will be able to:\n"
   ]
  },
  {
   "cell_type": "markdown",
   "metadata": {},
   "source": [
    "- Identify and remove inconsistent data entries.\n",
    "\n",
    "- Encode categorical variables for analysis.\n",
    "\n",
    "- Handle missing values using multiple imputation strategies.\n",
    "\n",
    "- Apply feature scaling and transformation techniques.\n"
   ]
  },
  {
   "cell_type": "markdown",
   "metadata": {},
   "source": [
    "#### Intsall the required libraries\n"
   ]
  },
  {
   "cell_type": "code",
   "execution_count": 1,
   "metadata": {},
   "outputs": [
    {
     "name": "stdout",
     "output_type": "stream",
     "text": [
      "Requirement already satisfied: pandas in /opt/conda/lib/python3.12/site-packages (2.2.3)\n",
      "Requirement already satisfied: numpy>=1.26.0 in /opt/conda/lib/python3.12/site-packages (from pandas) (2.2.6)\n",
      "Requirement already satisfied: python-dateutil>=2.8.2 in /opt/conda/lib/python3.12/site-packages (from pandas) (2.9.0.post0)\n",
      "Requirement already satisfied: pytz>=2020.1 in /opt/conda/lib/python3.12/site-packages (from pandas) (2024.2)\n",
      "Requirement already satisfied: tzdata>=2022.7 in /opt/conda/lib/python3.12/site-packages (from pandas) (2025.2)\n",
      "Requirement already satisfied: six>=1.5 in /opt/conda/lib/python3.12/site-packages (from python-dateutil>=2.8.2->pandas) (1.17.0)\n",
      "Requirement already satisfied: matplotlib in /opt/conda/lib/python3.12/site-packages (3.10.3)\n",
      "Requirement already satisfied: contourpy>=1.0.1 in /opt/conda/lib/python3.12/site-packages (from matplotlib) (1.3.2)\n",
      "Requirement already satisfied: cycler>=0.10 in /opt/conda/lib/python3.12/site-packages (from matplotlib) (0.12.1)\n",
      "Requirement already satisfied: fonttools>=4.22.0 in /opt/conda/lib/python3.12/site-packages (from matplotlib) (4.58.1)\n",
      "Requirement already satisfied: kiwisolver>=1.3.1 in /opt/conda/lib/python3.12/site-packages (from matplotlib) (1.4.8)\n",
      "Requirement already satisfied: numpy>=1.23 in /opt/conda/lib/python3.12/site-packages (from matplotlib) (2.2.6)\n",
      "Requirement already satisfied: packaging>=20.0 in /opt/conda/lib/python3.12/site-packages (from matplotlib) (24.2)\n",
      "Requirement already satisfied: pillow>=8 in /opt/conda/lib/python3.12/site-packages (from matplotlib) (11.2.1)\n",
      "Requirement already satisfied: pyparsing>=2.3.1 in /opt/conda/lib/python3.12/site-packages (from matplotlib) (3.2.3)\n",
      "Requirement already satisfied: python-dateutil>=2.7 in /opt/conda/lib/python3.12/site-packages (from matplotlib) (2.9.0.post0)\n",
      "Requirement already satisfied: six>=1.5 in /opt/conda/lib/python3.12/site-packages (from python-dateutil>=2.7->matplotlib) (1.17.0)\n"
     ]
    }
   ],
   "source": [
    "!pip install pandas\n",
    "!pip install matplotlib"
   ]
  },
  {
   "cell_type": "markdown",
   "metadata": {},
   "source": [
    "## Tasks\n"
   ]
  },
  {
   "cell_type": "markdown",
   "metadata": {},
   "source": [
    "#### Step 1: Import the necessary module.\n"
   ]
  },
  {
   "cell_type": "markdown",
   "metadata": {},
   "source": [
    "### 1. Load the Dataset\n"
   ]
  },
  {
   "cell_type": "markdown",
   "metadata": {},
   "source": [
    "<h5>1.1 Import necessary libraries and load the dataset.</h5>\n"
   ]
  },
  {
   "cell_type": "markdown",
   "metadata": {},
   "source": [
    "Ensure the dataset is loaded correctly by displaying the first few rows.\n"
   ]
  },
  {
   "cell_type": "code",
   "execution_count": 33,
   "metadata": {},
   "outputs": [
    {
     "name": "stdout",
     "output_type": "stream",
     "text": [
      "   ResponseId                      MainBranch                 Age  \\\n",
      "0           1  I am a developer by profession  Under 18 years old   \n",
      "1           2  I am a developer by profession     35-44 years old   \n",
      "2           3  I am a developer by profession     45-54 years old   \n",
      "3           4           I am learning to code     18-24 years old   \n",
      "4           5  I am a developer by profession     18-24 years old   \n",
      "\n",
      "            Employment RemoteWork   Check  \\\n",
      "0  Employed, full-time     Remote  Apples   \n",
      "1  Employed, full-time     Remote  Apples   \n",
      "2  Employed, full-time     Remote  Apples   \n",
      "3   Student, full-time        NaN  Apples   \n",
      "4   Student, full-time        NaN  Apples   \n",
      "\n",
      "                                    CodingActivities  \\\n",
      "0                                              Hobby   \n",
      "1  Hobby;Contribute to open-source projects;Other...   \n",
      "2  Hobby;Contribute to open-source projects;Other...   \n",
      "3                                                NaN   \n",
      "4                                                NaN   \n",
      "\n",
      "                                             EdLevel  \\\n",
      "0                          Primary/elementary school   \n",
      "1       Bachelor’s degree (B.A., B.S., B.Eng., etc.)   \n",
      "2    Master’s degree (M.A., M.S., M.Eng., MBA, etc.)   \n",
      "3  Some college/university study without earning ...   \n",
      "4  Secondary school (e.g. American high school, G...   \n",
      "\n",
      "                                           LearnCode  \\\n",
      "0                             Books / Physical media   \n",
      "1  Books / Physical media;Colleague;On the job tr...   \n",
      "2  Books / Physical media;Colleague;On the job tr...   \n",
      "3  Other online resources (e.g., videos, blogs, f...   \n",
      "4  Other online resources (e.g., videos, blogs, f...   \n",
      "\n",
      "                                     LearnCodeOnline  ... JobSatPoints_6  \\\n",
      "0                                                NaN  ...            NaN   \n",
      "1  Technical documentation;Blogs;Books;Written Tu...  ...            0.0   \n",
      "2  Technical documentation;Blogs;Books;Written Tu...  ...            NaN   \n",
      "3  Stack Overflow;How-to videos;Interactive tutorial  ...            NaN   \n",
      "4  Technical documentation;Blogs;Written Tutorial...  ...            NaN   \n",
      "\n",
      "  JobSatPoints_7 JobSatPoints_8 JobSatPoints_9 JobSatPoints_10  \\\n",
      "0            NaN            NaN            NaN             NaN   \n",
      "1            0.0            0.0            0.0             0.0   \n",
      "2            NaN            NaN            NaN             NaN   \n",
      "3            NaN            NaN            NaN             NaN   \n",
      "4            NaN            NaN            NaN             NaN   \n",
      "\n",
      "  JobSatPoints_11           SurveyLength SurveyEase ConvertedCompYearly JobSat  \n",
      "0             NaN                    NaN        NaN                 NaN    NaN  \n",
      "1             0.0                    NaN        NaN                 NaN    NaN  \n",
      "2             NaN  Appropriate in length       Easy                 NaN    NaN  \n",
      "3             NaN               Too long       Easy                 NaN    NaN  \n",
      "4             NaN              Too short       Easy                 NaN    NaN  \n",
      "\n",
      "[5 rows x 114 columns]\n"
     ]
    }
   ],
   "source": [
    "# Import necessary libraries\n",
    "import pandas as pd\n",
    "\n",
    "# Load the Stack Overflow survey data\n",
    "dataset_url = \"https://cf-courses-data.s3.us.cloud-object-storage.appdomain.cloud/n01PQ9pSmiRX6520flujwQ/survey-data.csv\"\n",
    "df = pd.read_csv(dataset_url)\n",
    "\n",
    "# Display the first few rows\n",
    "print(df.head())\n"
   ]
  },
  {
   "cell_type": "markdown",
   "metadata": {},
   "source": [
    "#### 2. Explore the Dataset\n"
   ]
  },
  {
   "cell_type": "markdown",
   "metadata": {},
   "source": [
    "<h5>2.1 Summarize the dataset by displaying the column data types, counts, and missing values.</h5>\n"
   ]
  },
  {
   "cell_type": "code",
   "execution_count": 34,
   "metadata": {},
   "outputs": [
    {
     "name": "stdout",
     "output_type": "stream",
     "text": [
      "ResponseId               int64\n",
      "MainBranch              object\n",
      "Age                     object\n",
      "Employment              object\n",
      "RemoteWork              object\n",
      "                        ...   \n",
      "JobSatPoints_11        float64\n",
      "SurveyLength            object\n",
      "SurveyEase              object\n",
      "ConvertedCompYearly    float64\n",
      "JobSat                 float64\n",
      "Length: 114, dtype: object\n",
      "ResponseId             65437\n",
      "MainBranch             65437\n",
      "Age                    65437\n",
      "Employment             65437\n",
      "RemoteWork             54806\n",
      "                       ...  \n",
      "JobSatPoints_11        29445\n",
      "SurveyLength           56182\n",
      "SurveyEase             56238\n",
      "ConvertedCompYearly    23435\n",
      "JobSat                 29126\n",
      "Length: 114, dtype: int64\n",
      "       ResponseId  MainBranch    Age  Employment  RemoteWork  Check  \\\n",
      "0           False       False  False       False       False  False   \n",
      "1           False       False  False       False       False  False   \n",
      "2           False       False  False       False       False  False   \n",
      "3           False       False  False       False        True  False   \n",
      "4           False       False  False       False        True  False   \n",
      "...           ...         ...    ...         ...         ...    ...   \n",
      "65432       False       False  False       False       False  False   \n",
      "65433       False       False  False       False       False  False   \n",
      "65434       False       False  False       False       False  False   \n",
      "65435       False       False  False       False       False  False   \n",
      "65436       False       False  False       False        True  False   \n",
      "\n",
      "       CodingActivities  EdLevel  LearnCode  LearnCodeOnline  ...  \\\n",
      "0                 False    False      False             True  ...   \n",
      "1                 False    False      False            False  ...   \n",
      "2                 False    False      False            False  ...   \n",
      "3                  True    False      False            False  ...   \n",
      "4                  True    False      False            False  ...   \n",
      "...                 ...      ...        ...              ...  ...   \n",
      "65432             False    False      False             True  ...   \n",
      "65433             False     True       True             True  ...   \n",
      "65434             False    False      False            False  ...   \n",
      "65435             False    False      False            False  ...   \n",
      "65436              True     True       True             True  ...   \n",
      "\n",
      "       JobSatPoints_6  JobSatPoints_7  JobSatPoints_8  JobSatPoints_9  \\\n",
      "0                True            True            True            True   \n",
      "1               False           False           False           False   \n",
      "2                True            True            True            True   \n",
      "3                True            True            True            True   \n",
      "4                True            True            True            True   \n",
      "...               ...             ...             ...             ...   \n",
      "65432            True            True            True            True   \n",
      "65433            True            True            True            True   \n",
      "65434            True            True            True            True   \n",
      "65435           False           False           False           False   \n",
      "65436            True            True            True            True   \n",
      "\n",
      "       JobSatPoints_10  JobSatPoints_11  SurveyLength  SurveyEase  \\\n",
      "0                 True             True          True        True   \n",
      "1                False            False          True        True   \n",
      "2                 True             True         False       False   \n",
      "3                 True             True         False       False   \n",
      "4                 True             True         False       False   \n",
      "...                ...              ...           ...         ...   \n",
      "65432             True             True          True        True   \n",
      "65433             True             True          True        True   \n",
      "65434             True             True          True        True   \n",
      "65435            False            False          True        True   \n",
      "65436             True             True          True        True   \n",
      "\n",
      "       ConvertedCompYearly  JobSat  \n",
      "0                     True    True  \n",
      "1                     True    True  \n",
      "2                     True    True  \n",
      "3                     True    True  \n",
      "4                     True    True  \n",
      "...                    ...     ...  \n",
      "65432                 True    True  \n",
      "65433                 True    True  \n",
      "65434                 True    True  \n",
      "65435                 True    True  \n",
      "65436                 True    True  \n",
      "\n",
      "[65437 rows x 114 columns]\n"
     ]
    }
   ],
   "source": [
    "print(df.dtypes)\n",
    "\n",
    "print(df.count())\n",
    "\n",
    "print(df.isnull())"
   ]
  },
  {
   "cell_type": "markdown",
   "metadata": {},
   "source": [
    "<h5>2.2 Generate basic statistics for numerical columns.</h5>\n"
   ]
  },
  {
   "cell_type": "code",
   "execution_count": 35,
   "metadata": {},
   "outputs": [
    {
     "name": "stdout",
     "output_type": "stream",
     "text": [
      "          ResponseId                      MainBranch              Age  \\\n",
      "count   65437.000000                           65437            65437   \n",
      "unique           NaN                               5                8   \n",
      "top              NaN  I am a developer by profession  25-34 years old   \n",
      "freq             NaN                           50207            23911   \n",
      "mean    32719.000000                             NaN              NaN   \n",
      "std     18890.179119                             NaN              NaN   \n",
      "min         1.000000                             NaN              NaN   \n",
      "25%     16360.000000                             NaN              NaN   \n",
      "50%     32719.000000                             NaN              NaN   \n",
      "75%     49078.000000                             NaN              NaN   \n",
      "max     65437.000000                             NaN              NaN   \n",
      "\n",
      "                 Employment                            RemoteWork   Check  \\\n",
      "count                 65437                                 54806   65437   \n",
      "unique                  110                                     3       1   \n",
      "top     Employed, full-time  Hybrid (some remote, some in-person)  Apples   \n",
      "freq                  39041                                 23015   65437   \n",
      "mean                    NaN                                   NaN     NaN   \n",
      "std                     NaN                                   NaN     NaN   \n",
      "min                     NaN                                   NaN     NaN   \n",
      "25%                     NaN                                   NaN     NaN   \n",
      "50%                     NaN                                   NaN     NaN   \n",
      "75%                     NaN                                   NaN     NaN   \n",
      "max                     NaN                                   NaN     NaN   \n",
      "\n",
      "       CodingActivities                                       EdLevel  \\\n",
      "count             54466                                         60784   \n",
      "unique              118                                             8   \n",
      "top               Hobby  Bachelor’s degree (B.A., B.S., B.Eng., etc.)   \n",
      "freq               9993                                         24942   \n",
      "mean                NaN                                           NaN   \n",
      "std                 NaN                                           NaN   \n",
      "min                 NaN                                           NaN   \n",
      "25%                 NaN                                           NaN   \n",
      "50%                 NaN                                           NaN   \n",
      "75%                 NaN                                           NaN   \n",
      "max                 NaN                                           NaN   \n",
      "\n",
      "                                                LearnCode  \\\n",
      "count                                               60488   \n",
      "unique                                                418   \n",
      "top     Other online resources (e.g., videos, blogs, f...   \n",
      "freq                                                 3674   \n",
      "mean                                                  NaN   \n",
      "std                                                   NaN   \n",
      "min                                                   NaN   \n",
      "25%                                                   NaN   \n",
      "50%                                                   NaN   \n",
      "75%                                                   NaN   \n",
      "max                                                   NaN   \n",
      "\n",
      "                                          LearnCodeOnline  ... JobSatPoints_6  \\\n",
      "count                                               49237  ...   29450.000000   \n",
      "unique                                              10853  ...            NaN   \n",
      "top     Technical documentation;Blogs;Written Tutorial...  ...            NaN   \n",
      "freq                                                  603  ...            NaN   \n",
      "mean                                                  NaN  ...      24.343232   \n",
      "std                                                   NaN  ...      27.089360   \n",
      "min                                                   NaN  ...       0.000000   \n",
      "25%                                                   NaN  ...       0.000000   \n",
      "50%                                                   NaN  ...      20.000000   \n",
      "75%                                                   NaN  ...      30.000000   \n",
      "max                                                   NaN  ...     100.000000   \n",
      "\n",
      "       JobSatPoints_7 JobSatPoints_8 JobSatPoints_9 JobSatPoints_10  \\\n",
      "count     29448.00000   29456.000000   29456.000000    29450.000000   \n",
      "unique            NaN            NaN            NaN             NaN   \n",
      "top               NaN            NaN            NaN             NaN   \n",
      "freq              NaN            NaN            NaN             NaN   \n",
      "mean         22.96522      20.278165      16.169432       10.955713   \n",
      "std          27.01774      26.108110      24.845032       22.906263   \n",
      "min           0.00000       0.000000       0.000000        0.000000   \n",
      "25%           0.00000       0.000000       0.000000        0.000000   \n",
      "50%          15.00000      10.000000       5.000000        0.000000   \n",
      "75%          30.00000      25.000000      20.000000       10.000000   \n",
      "max         100.00000     100.000000     100.000000      100.000000   \n",
      "\n",
      "       JobSatPoints_11           SurveyLength SurveyEase ConvertedCompYearly  \\\n",
      "count     29445.000000                  56182      56238        2.343500e+04   \n",
      "unique             NaN                      3          3                 NaN   \n",
      "top                NaN  Appropriate in length       Easy                 NaN   \n",
      "freq               NaN                  38767      30071                 NaN   \n",
      "mean          9.953948                    NaN        NaN        8.615529e+04   \n",
      "std          21.775652                    NaN        NaN        1.867570e+05   \n",
      "min           0.000000                    NaN        NaN        1.000000e+00   \n",
      "25%           0.000000                    NaN        NaN        3.271200e+04   \n",
      "50%           0.000000                    NaN        NaN        6.500000e+04   \n",
      "75%          10.000000                    NaN        NaN        1.079715e+05   \n",
      "max         100.000000                    NaN        NaN        1.625660e+07   \n",
      "\n",
      "              JobSat  \n",
      "count   29126.000000  \n",
      "unique           NaN  \n",
      "top              NaN  \n",
      "freq             NaN  \n",
      "mean        6.935041  \n",
      "std         2.088259  \n",
      "min         0.000000  \n",
      "25%         6.000000  \n",
      "50%         7.000000  \n",
      "75%         8.000000  \n",
      "max        10.000000  \n",
      "\n",
      "[11 rows x 114 columns]\n"
     ]
    }
   ],
   "source": [
    "print(df.describe(include = 'all'))"
   ]
  },
  {
   "cell_type": "markdown",
   "metadata": {},
   "source": [
    "### 3. Identifying and Removing Inconsistencies\n"
   ]
  },
  {
   "cell_type": "markdown",
   "metadata": {},
   "source": [
    "<h5>3.1 Identify inconsistent or irrelevant entries in specific columns (e.g., Country).</h5>\n"
   ]
  },
  {
   "cell_type": "code",
   "execution_count": 36,
   "metadata": {},
   "outputs": [
    {
     "name": "stdout",
     "output_type": "stream",
     "text": [
      "['United States of America'\n",
      " 'United Kingdom of Great Britain and Northern Ireland' 'Canada' 'Norway'\n",
      " 'Uzbekistan' 'Serbia' 'Poland' 'Philippines' 'Bulgaria' 'Switzerland'\n",
      " 'India' 'Germany' 'Ireland' 'Italy' 'Ukraine' 'Australia' 'Brazil'\n",
      " 'Japan' 'Austria' 'Iran, Islamic Republic of...' 'France' 'Saudi Arabia'\n",
      " 'Romania' 'Turkey' 'Nepal' 'Algeria' 'Sweden' 'Netherlands' 'Croatia'\n",
      " 'Pakistan' 'Czech Republic' 'Republic of North Macedonia' 'Finland'\n",
      " 'Slovakia' 'Russian Federation' 'Greece' 'Israel' 'Belgium' 'Mexico'\n",
      " 'United Republic of Tanzania' 'Hungary' 'Argentina' 'Portugal'\n",
      " 'Sri Lanka' 'Latvia' 'China' 'Singapore' 'Lebanon' 'Spain' 'South Africa'\n",
      " 'Lithuania' 'Viet Nam' 'Dominican Republic' 'Indonesia' 'Kosovo'\n",
      " 'Morocco' 'Taiwan' 'Georgia' 'San Marino' 'Tunisia' 'Bangladesh'\n",
      " 'Nigeria' 'Liechtenstein' 'Denmark' 'Ecuador' 'Malaysia' 'Albania'\n",
      " 'Azerbaijan' 'Chile' 'Ghana' 'Peru' 'Bolivia' 'Egypt' 'Luxembourg'\n",
      " 'Montenegro' 'Cyprus' 'Paraguay' 'Kazakhstan' 'Slovenia' 'Jordan'\n",
      " 'Venezuela, Bolivarian Republic of...' 'Costa Rica' 'Jamaica' 'Thailand'\n",
      " 'Nicaragua' 'Myanmar' 'Republic of Korea' 'Rwanda'\n",
      " 'Bosnia and Herzegovina' 'Benin' 'El Salvador' 'Zimbabwe' 'Afghanistan'\n",
      " 'Estonia' 'Malta' 'Uruguay' 'Belarus' 'Colombia' 'Republic of Moldova'\n",
      " 'Isle of Man' 'Nomadic' 'New Zealand' 'Palestine' 'Armenia'\n",
      " 'United Arab Emirates' 'Maldives' 'Ethiopia' 'Fiji' 'Guatemala' 'Uganda'\n",
      " 'Turkmenistan' 'Mauritius' 'Kenya' 'Cuba' 'Gabon' 'Bahamas' 'South Korea'\n",
      " 'Iceland' 'Honduras' 'Hong Kong (S.A.R.)'\n",
      " \"Lao People's Democratic Republic\" 'Mongolia' 'Cambodia' 'Madagascar'\n",
      " 'Angola' 'Democratic Republic of the Congo' 'Syrian Arab Republic' 'Iraq'\n",
      " 'Namibia' 'Senegal' 'Kyrgyzstan' 'Zambia' 'Swaziland' \"Côte d'Ivoire\"\n",
      " 'Kuwait' 'Tajikistan' 'Burundi' 'Trinidad and Tobago' 'Mauritania'\n",
      " 'Sierra Leone' 'Panama' 'Somalia' 'North Korea' 'Dominica' 'Guyana'\n",
      " 'Togo' 'Oman' 'Barbados' 'Andorra'\n",
      " \"Democratic People's Republic of Korea\" 'Qatar' 'Sudan' 'Cameroon'\n",
      " 'Papua New Guinea' 'Bahrain' 'Yemen' 'Malawi' 'Burkina Faso'\n",
      " 'Congo, Republic of the...' 'Botswana' 'Guinea-Bissau' 'Mozambique'\n",
      " 'Central African Republic' 'Equatorial Guinea' 'Suriname' 'Belize'\n",
      " 'Libyan Arab Jamahiriya' 'Cape Verde' 'Brunei Darussalam' 'Bhutan'\n",
      " 'Guinea' 'Niger' 'Antigua and Barbuda' 'Mali' 'Samoa' 'Lesotho'\n",
      " 'Saint Kitts and Nevis' 'Monaco' 'Micronesia, Federated States of...'\n",
      " 'Haiti' nan 'Nauru' 'Liberia' 'Chad' 'Djibouti' 'Solomon Islands']\n"
     ]
    }
   ],
   "source": [
    "print(df['Country'].unique())"
   ]
  },
  {
   "cell_type": "markdown",
   "metadata": {},
   "source": [
    "<h5>3.2 Standardize entries in columns like Country or EdLevel by mapping inconsistent values to a consistent format.</h5>\n"
   ]
  },
  {
   "cell_type": "code",
   "execution_count": 38,
   "metadata": {},
   "outputs": [
    {
     "data": {
      "text/plain": [
       "array(['USA', 'UK', 'Canada', 'Norway', 'Uzbekistan', 'Serbia', 'Poland',\n",
       "       'Philippines', 'Bulgaria', 'Switzerland', 'India', 'Germany',\n",
       "       'Ireland', 'Italy', 'Ukraine', 'Australia', 'Brazil', 'Japan',\n",
       "       'Austria', 'Iran', 'France', 'Saudi Arabia', 'Romania', 'Turkey',\n",
       "       'Nepal', 'Algeria', 'Sweden', 'Netherlands', 'Croatia', 'Pakistan',\n",
       "       'Czech Republic', 'North Macedonia', 'Finland', 'Slovakia',\n",
       "       'Russia', 'Greece', 'Israel', 'Belgium', 'Mexico', 'Tanzania',\n",
       "       'Hungary', 'Argentina', 'Portugal', 'Sri Lanka', 'Latvia', 'China',\n",
       "       'Singapore', 'Lebanon', 'Spain', 'South Africa', 'Lithuania',\n",
       "       'Viet Nam', 'Dominican Republic', 'Indonesia', 'Kosovo', 'Morocco',\n",
       "       'Taiwan', 'Georgia', 'San Marino', 'Tunisia', 'Bangladesh',\n",
       "       'Nigeria', 'Liechtenstein', 'Denmark', 'Ecuador', 'Malaysia',\n",
       "       'Albania', 'Azerbaijan', 'Chile', 'Ghana', 'Peru', 'Bolivia',\n",
       "       'Egypt', 'Luxembourg', 'Montenegro', 'Cyprus', 'Paraguay',\n",
       "       'Kazakhstan', 'Slovenia', 'Jordan', 'Venezuela', 'Costa Rica',\n",
       "       'Jamaica', 'Thailand', 'Nicaragua', 'Myanmar', 'South Korea',\n",
       "       'Rwanda', 'Bosnia and Herzegovina', 'Benin', 'El Salvador',\n",
       "       'Zimbabwe', 'Afghanistan', 'Estonia', 'Malta', 'Uruguay',\n",
       "       'Belarus', 'Colombia', 'Moldova', 'Isle of Man', 'Nomadic',\n",
       "       'New Zealand', 'Palestine', 'Armenia', 'UAE', 'Maldives',\n",
       "       'Ethiopia', 'Fiji', 'Guatemala', 'Uganda', 'Turkmenistan',\n",
       "       'Mauritius', 'Kenya', 'Cuba', 'Gabon', 'Bahamas', 'Iceland',\n",
       "       'Honduras', 'Hong Kong', 'Lao', 'Mongolia', 'Cambodia',\n",
       "       'Madagascar', 'Angola', 'DRC', 'Syria', 'Iraq', 'Namibia',\n",
       "       'Senegal', 'Kyrgyzstan', 'Zambia', 'Swaziland', \"Côte d'Ivoire\",\n",
       "       'Kuwait', 'Tajikistan', 'Burundi', 'Trinidad and Tobago',\n",
       "       'Mauritania', 'Sierra Leone', 'Panama', 'Somalia', 'North Korea',\n",
       "       'Dominica', 'Guyana', 'Togo', 'Oman', 'Barbados', 'Andorra',\n",
       "       'Qatar', 'Sudan', 'Cameroon', 'Papua New Guinea', 'Bahrain',\n",
       "       'Yemen', 'Malawi', 'Burkina Faso', 'Congo', 'Botswana',\n",
       "       'Guinea-Bissau', 'Mozambique', 'Central African Republic',\n",
       "       'Equatorial Guinea', 'Suriname', 'Belize',\n",
       "       'Libyan Arab Jamahiriya', 'Cape Verde', 'Brunei Darussalam',\n",
       "       'Bhutan', 'Guinea', 'Niger', 'Antigua and Barbuda', 'Mali',\n",
       "       'Samoa', 'Lesotho', 'Saint Kitts and Nevis', 'Monaco',\n",
       "       'Micronesia', 'Haiti', nan, 'Nauru', 'Liberia', 'Chad', 'Djibouti',\n",
       "       'Solomon Islands'], dtype=object)"
      ]
     },
     "execution_count": 38,
     "metadata": {},
     "output_type": "execute_result"
    }
   ],
   "source": [
    "countries_list = {\n",
    "    'United States of America':'USA',\n",
    "    'United Kingdom of Great Britain and Northern Ireland':'UK',\n",
    "    'Iran, Islamic Republic of...':'Iran',\n",
    "    'Republic of North Macedonia':'North Macedonia',\n",
    "    'United Republic of Tanzania':'Tanzania',\n",
    "    'Venezuela, Bolivarian Republic of...':'Venezuela',\n",
    "    'Republic of Korea':'South Korea',\n",
    "    'Republic of Moldova':'Moldova',\n",
    "    'United Arab Emirates':'UAE',\n",
    "    'Hong Kong (S.A.R.)':'Hong Kong',\n",
    "    \"Lao People's Democratic Republic\":\"Lao\",\n",
    "    'Democratic Republic of the Congo':'DRC',\n",
    "    'Syrian Arab Republic':'Syria',\n",
    "    \"Democratic People's Republic of Korea\":'North Korea',\n",
    "    'Congo, Republic of the...':'Congo',\n",
    "    'Micronesia, Federated States of...':'Micronesia',\n",
    "    'Russian Federation':'Russia'\n",
    "}\n",
    "\n",
    "df['Country'] = df['Country'].replace(countries_list)\n",
    "\n",
    "df['Country'].unique()"
   ]
  },
  {
   "cell_type": "markdown",
   "metadata": {},
   "source": [
    "### 4. Encoding Categorical Variables\n"
   ]
  },
  {
   "cell_type": "markdown",
   "metadata": {},
   "source": [
    "<h5>4.1 Encode the Employment column using one-hot encoding.</h5>\n"
   ]
  },
  {
   "cell_type": "code",
   "execution_count": 40,
   "metadata": {},
   "outputs": [],
   "source": [
    "df_encoded = pd.get_dummies(df['Employment'], prefix = 'Employment')"
   ]
  },
  {
   "cell_type": "markdown",
   "metadata": {},
   "source": [
    "### 5. Handling Missing Values\n"
   ]
  },
  {
   "cell_type": "markdown",
   "metadata": {},
   "source": [
    "<h5>5.1 Identify columns with the highest number of missing values.</h5>\n"
   ]
  },
  {
   "cell_type": "code",
   "execution_count": 46,
   "metadata": {},
   "outputs": [
    {
     "data": {
      "text/plain": [
       "AINextMuch less integrated    64289\n",
       "AINextLess integrated         63082\n",
       "AINextNo change               52939\n",
       "AINextMuch more integrated    51999\n",
       "EmbeddedAdmired               48704\n",
       "                              ...  \n",
       "MainBranch                        0\n",
       "Age                               0\n",
       "Employment                        0\n",
       "Check                             0\n",
       "ResponseId                        0\n",
       "Length: 114, dtype: int64"
      ]
     },
     "execution_count": 46,
     "metadata": {},
     "output_type": "execute_result"
    }
   ],
   "source": [
    "df.isnull().sum().sort_values(ascending = False)"
   ]
  },
  {
   "cell_type": "markdown",
   "metadata": {},
   "source": [
    "<h5>5.2 Impute missing values in numerical columns (e.g., `ConvertedCompYearly`) with the mean or median.</h5>\n"
   ]
  },
  {
   "cell_type": "code",
   "execution_count": 64,
   "metadata": {},
   "outputs": [],
   "source": [
    "import numpy as np\n",
    "\n",
    "for column in df:\n",
    "   if df[column].dtypes != 'object':\n",
    "    df[column] = df[column].replace(np.nan, df[column].mean());\n"
   ]
  },
  {
   "cell_type": "markdown",
   "metadata": {},
   "source": [
    "<h5>5.3 Impute missing values in categorical columns (e.g., `RemoteWork`) with the most frequent value.</h5>\n"
   ]
  },
  {
   "cell_type": "code",
   "execution_count": 63,
   "metadata": {},
   "outputs": [],
   "source": [
    "for column in df:\n",
    "    if df[column].dtypes == 'object':\n",
    "        df[column] = df[column].replace(np.nan, df[column].value_counts().idxmax());"
   ]
  },
  {
   "cell_type": "markdown",
   "metadata": {},
   "source": [
    "### 6. Feature Scaling and Transformation\n"
   ]
  },
  {
   "cell_type": "markdown",
   "metadata": {},
   "source": [
    "<h5>6.1 Apply Min-Max Scaling to normalize the `ConvertedCompYearly` column.</h5>\n"
   ]
  },
  {
   "cell_type": "code",
   "execution_count": 65,
   "metadata": {},
   "outputs": [
    {
     "name": "stderr",
     "output_type": "stream",
     "text": [
      "/tmp/ipykernel_5576/716621474.py:4: PerformanceWarning: DataFrame is highly fragmented.  This is usually the result of calling `frame.insert` many times, which has poor performance.  Consider joining all columns at once using pd.concat(axis=1) instead. To get a de-fragmented frame, use `newframe = frame.copy()`\n",
      "  df['ConvertedCompYearly_MinMax'] = (df['ConvertedCompYearly'] - min_value) / (max_value - min_value)\n"
     ]
    }
   ],
   "source": [
    "min_value = df['ConvertedCompYearly'].min()\n",
    "max_value = df['ConvertedCompYearly'].max()\n",
    "\n",
    "df['ConvertedCompYearly_MinMax'] = (df['ConvertedCompYearly'] - min_value) / (max_value - min_value)"
   ]
  },
  {
   "cell_type": "markdown",
   "metadata": {},
   "source": [
    "<h5>6.2 Log-transform the ConvertedCompYearly column to reduce skewness.</h5>\n"
   ]
  },
  {
   "cell_type": "code",
   "execution_count": 66,
   "metadata": {},
   "outputs": [
    {
     "name": "stderr",
     "output_type": "stream",
     "text": [
      "/tmp/ipykernel_5576/2430947625.py:1: PerformanceWarning: DataFrame is highly fragmented.  This is usually the result of calling `frame.insert` many times, which has poor performance.  Consider joining all columns at once using pd.concat(axis=1) instead. To get a de-fragmented frame, use `newframe = frame.copy()`\n",
      "  df['log_Comp'] = np.log1p(df['ConvertedCompYearly'])\n"
     ]
    }
   ],
   "source": [
    "df['log_Comp'] = np.log1p(df['ConvertedCompYearly'])"
   ]
  },
  {
   "cell_type": "markdown",
   "metadata": {},
   "source": [
    "### 7. Feature Engineering\n"
   ]
  },
  {
   "cell_type": "markdown",
   "metadata": {},
   "source": [
    "<h5>7.1 Create a new column `ExperienceLevel` based on the `YearsCodePro` column:</h5>\n"
   ]
  },
  {
   "cell_type": "code",
   "execution_count": 68,
   "metadata": {},
   "outputs": [
    {
     "name": "stdout",
     "output_type": "stream",
     "text": [
      "       YearsCodePro ExperienceLevel\n",
      "0               2.0        Beginner\n",
      "1              17.0        Advanced\n",
      "2              27.0        Advanced\n",
      "3               2.0        Beginner\n",
      "4               2.0        Beginner\n",
      "...             ...             ...\n",
      "65432           3.0    Intermediate\n",
      "65433           2.0        Beginner\n",
      "65434           5.0    Intermediate\n",
      "65435           2.0        Beginner\n",
      "65436           2.0        Beginner\n",
      "\n",
      "[65437 rows x 2 columns]\n"
     ]
    },
    {
     "name": "stderr",
     "output_type": "stream",
     "text": [
      "/tmp/ipykernel_5576/1491776716.py:13: PerformanceWarning: DataFrame is highly fragmented.  This is usually the result of calling `frame.insert` many times, which has poor performance.  Consider joining all columns at once using pd.concat(axis=1) instead. To get a de-fragmented frame, use `newframe = frame.copy()`\n",
      "  df['ExperienceLevel'] = df['YearsCodePro'].apply(assign_experience_level)\n"
     ]
    }
   ],
   "source": [
    "df['YearsCodePro'] = pd.to_numeric(df['YearsCodePro'], errors = 'coerce')\n",
    "\n",
    "def assign_experience_level(years):\n",
    "    if pd.isna(years):\n",
    "        return 'Unknown'\n",
    "    elif years <= 2:\n",
    "        return 'Beginner'\n",
    "    elif 3 <= years <= 5:\n",
    "        return 'Intermediate'\n",
    "    else:\n",
    "        return 'Advanced'\n",
    "\n",
    "df['ExperienceLevel'] = df['YearsCodePro'].apply(assign_experience_level)\n",
    "\n",
    "print(df[['YearsCodePro','ExperienceLevel']])"
   ]
  },
  {
   "cell_type": "markdown",
   "metadata": {},
   "source": [
    "### Summary\n"
   ]
  },
  {
   "cell_type": "markdown",
   "metadata": {},
   "source": [
    "In this lab, you:\n",
    "\n",
    "- Explored the dataset to identify inconsistencies and missing values.\n",
    "\n",
    "- Encoded categorical variables for analysis.\n",
    "\n",
    "- Handled missing values using imputation techniques.\n",
    "\n",
    "- Normalized and transformed numerical data to prepare it for analysis.\n",
    "\n",
    "- Engineered a new feature to enhance data interpretation.\n"
   ]
  },
  {
   "cell_type": "markdown",
   "metadata": {},
   "source": [
    "Copyright © IBM Corporation. All rights reserved.\n"
   ]
  }
 ],
 "metadata": {
  "kernelspec": {
   "display_name": "Python 3 (ipykernel)",
   "language": "python",
   "name": "python3"
  },
  "language_info": {
   "codemirror_mode": {
    "name": "ipython",
    "version": 3
   },
   "file_extension": ".py",
   "mimetype": "text/x-python",
   "name": "python",
   "nbconvert_exporter": "python",
   "pygments_lexer": "ipython3",
   "version": "3.12.8"
  },
  "prev_pub_hash": "1e8e234f19fd098e27b0518a87f18de690e1c51f1d3263d5690927d19971251e"
 },
 "nbformat": 4,
 "nbformat_minor": 4
}
